{
 "cells": [
  {
   "cell_type": "code",
   "execution_count": 1,
   "id": "66e9639b-317f-4280-85c3-21c1493c1f0b",
   "metadata": {},
   "outputs": [
    {
     "name": "stdout",
     "output_type": "stream",
     "text": [
      "<class 'pandas.core.frame.DataFrame'>\n",
      "RangeIndex: 6362620 entries, 0 to 6362619\n",
      "Data columns (total 11 columns):\n",
      " #   Column          Dtype  \n",
      "---  ------          -----  \n",
      " 0   step            int64  \n",
      " 1   type            object \n",
      " 2   amount          float64\n",
      " 3   nameOrig        object \n",
      " 4   oldbalanceOrg   float64\n",
      " 5   newbalanceOrig  float64\n",
      " 6   nameDest        object \n",
      " 7   oldbalanceDest  float64\n",
      " 8   newbalanceDest  float64\n",
      " 9   isFraud         int64  \n",
      " 10  isFlaggedFraud  int64  \n",
      "dtypes: float64(5), int64(3), object(3)\n",
      "memory usage: 534.0+ MB\n",
      "None\n"
     ]
    }
   ],
   "source": [
    "import pandas as pd\n",
    "data = pd.read_csv(r\"E:\\Anusha\\Case study\\Unguided\\PS_20174392719_1491204439457_log.csv\")\n",
    "print(data.info())"
   ]
  },
  {
   "cell_type": "code",
   "execution_count": 2,
   "id": "fab77f21-a4ec-4d3d-8162-63a317276be4",
   "metadata": {},
   "outputs": [
    {
     "name": "stdout",
     "output_type": "stream",
     "text": [
      "   step      type    amount     nameOrig  oldbalanceOrg  newbalanceOrig  \\\n",
      "0     1   PAYMENT   9839.64  C1231006815       170136.0       160296.36   \n",
      "1     1   PAYMENT   1864.28  C1666544295        21249.0        19384.72   \n",
      "2     1  TRANSFER    181.00  C1305486145          181.0            0.00   \n",
      "3     1  CASH_OUT    181.00   C840083671          181.0            0.00   \n",
      "4     1   PAYMENT  11668.14  C2048537720        41554.0        29885.86   \n",
      "\n",
      "      nameDest  oldbalanceDest  newbalanceDest  isFraud  isFlaggedFraud  \n",
      "0  M1979787155             0.0             0.0        0               0  \n",
      "1  M2044282225             0.0             0.0        0               0  \n",
      "2   C553264065             0.0             0.0        1               0  \n",
      "3    C38997010         21182.0             0.0        1               0  \n",
      "4  M1230701703             0.0             0.0        0               0  \n"
     ]
    }
   ],
   "source": [
    "print(data.head())"
   ]
  },
  {
   "cell_type": "code",
   "execution_count": 3,
   "id": "d3c5ce2d-a3ca-43e0-bd11-fb55d8d46143",
   "metadata": {},
   "outputs": [],
   "source": [
    "df=pd.DataFrame(data)"
   ]
  },
  {
   "cell_type": "markdown",
   "id": "c9547f7a-932b-4d7c-aedb-67d65467fdd3",
   "metadata": {},
   "source": [
    "# Download & Load the Dataset\n",
    "## 📌 Run .info() and .head() to understand its structure\n",
    "## 📌 Share the column names and any observations"
   ]
  },
  {
   "cell_type": "code",
   "execution_count": 5,
   "id": "400c0f64-70ac-4a5c-8838-4e89cf2796f1",
   "metadata": {},
   "outputs": [
    {
     "name": "stdout",
     "output_type": "stream",
     "text": [
      "<class 'pandas.core.frame.DataFrame'>\n",
      "RangeIndex: 6362620 entries, 0 to 6362619\n",
      "Data columns (total 11 columns):\n",
      " #   Column          Dtype  \n",
      "---  ------          -----  \n",
      " 0   step            int64  \n",
      " 1   type            object \n",
      " 2   amount          float64\n",
      " 3   nameOrig        object \n",
      " 4   oldbalanceOrg   float64\n",
      " 5   newbalanceOrig  float64\n",
      " 6   nameDest        object \n",
      " 7   oldbalanceDest  float64\n",
      " 8   newbalanceDest  float64\n",
      " 9   isFraud         int64  \n",
      " 10  isFlaggedFraud  int64  \n",
      "dtypes: float64(5), int64(3), object(3)\n",
      "memory usage: 534.0+ MB\n"
     ]
    }
   ],
   "source": [
    "df.info()"
   ]
  },
  {
   "cell_type": "code",
   "execution_count": 6,
   "id": "b0911f4e-7b22-443f-9fc8-611f093238b6",
   "metadata": {},
   "outputs": [
    {
     "data": {
      "text/html": [
       "<div>\n",
       "<style scoped>\n",
       "    .dataframe tbody tr th:only-of-type {\n",
       "        vertical-align: middle;\n",
       "    }\n",
       "\n",
       "    .dataframe tbody tr th {\n",
       "        vertical-align: top;\n",
       "    }\n",
       "\n",
       "    .dataframe thead th {\n",
       "        text-align: right;\n",
       "    }\n",
       "</style>\n",
       "<table border=\"1\" class=\"dataframe\">\n",
       "  <thead>\n",
       "    <tr style=\"text-align: right;\">\n",
       "      <th></th>\n",
       "      <th>step</th>\n",
       "      <th>type</th>\n",
       "      <th>amount</th>\n",
       "      <th>nameOrig</th>\n",
       "      <th>oldbalanceOrg</th>\n",
       "      <th>newbalanceOrig</th>\n",
       "      <th>nameDest</th>\n",
       "      <th>oldbalanceDest</th>\n",
       "      <th>newbalanceDest</th>\n",
       "      <th>isFraud</th>\n",
       "      <th>isFlaggedFraud</th>\n",
       "    </tr>\n",
       "  </thead>\n",
       "  <tbody>\n",
       "    <tr>\n",
       "      <th>0</th>\n",
       "      <td>1</td>\n",
       "      <td>PAYMENT</td>\n",
       "      <td>9839.64</td>\n",
       "      <td>C1231006815</td>\n",
       "      <td>170136.0</td>\n",
       "      <td>160296.36</td>\n",
       "      <td>M1979787155</td>\n",
       "      <td>0.0</td>\n",
       "      <td>0.0</td>\n",
       "      <td>0</td>\n",
       "      <td>0</td>\n",
       "    </tr>\n",
       "    <tr>\n",
       "      <th>1</th>\n",
       "      <td>1</td>\n",
       "      <td>PAYMENT</td>\n",
       "      <td>1864.28</td>\n",
       "      <td>C1666544295</td>\n",
       "      <td>21249.0</td>\n",
       "      <td>19384.72</td>\n",
       "      <td>M2044282225</td>\n",
       "      <td>0.0</td>\n",
       "      <td>0.0</td>\n",
       "      <td>0</td>\n",
       "      <td>0</td>\n",
       "    </tr>\n",
       "    <tr>\n",
       "      <th>2</th>\n",
       "      <td>1</td>\n",
       "      <td>TRANSFER</td>\n",
       "      <td>181.00</td>\n",
       "      <td>C1305486145</td>\n",
       "      <td>181.0</td>\n",
       "      <td>0.00</td>\n",
       "      <td>C553264065</td>\n",
       "      <td>0.0</td>\n",
       "      <td>0.0</td>\n",
       "      <td>1</td>\n",
       "      <td>0</td>\n",
       "    </tr>\n",
       "    <tr>\n",
       "      <th>3</th>\n",
       "      <td>1</td>\n",
       "      <td>CASH_OUT</td>\n",
       "      <td>181.00</td>\n",
       "      <td>C840083671</td>\n",
       "      <td>181.0</td>\n",
       "      <td>0.00</td>\n",
       "      <td>C38997010</td>\n",
       "      <td>21182.0</td>\n",
       "      <td>0.0</td>\n",
       "      <td>1</td>\n",
       "      <td>0</td>\n",
       "    </tr>\n",
       "    <tr>\n",
       "      <th>4</th>\n",
       "      <td>1</td>\n",
       "      <td>PAYMENT</td>\n",
       "      <td>11668.14</td>\n",
       "      <td>C2048537720</td>\n",
       "      <td>41554.0</td>\n",
       "      <td>29885.86</td>\n",
       "      <td>M1230701703</td>\n",
       "      <td>0.0</td>\n",
       "      <td>0.0</td>\n",
       "      <td>0</td>\n",
       "      <td>0</td>\n",
       "    </tr>\n",
       "  </tbody>\n",
       "</table>\n",
       "</div>"
      ],
      "text/plain": [
       "   step      type    amount     nameOrig  oldbalanceOrg  newbalanceOrig  \\\n",
       "0     1   PAYMENT   9839.64  C1231006815       170136.0       160296.36   \n",
       "1     1   PAYMENT   1864.28  C1666544295        21249.0        19384.72   \n",
       "2     1  TRANSFER    181.00  C1305486145          181.0            0.00   \n",
       "3     1  CASH_OUT    181.00   C840083671          181.0            0.00   \n",
       "4     1   PAYMENT  11668.14  C2048537720        41554.0        29885.86   \n",
       "\n",
       "      nameDest  oldbalanceDest  newbalanceDest  isFraud  isFlaggedFraud  \n",
       "0  M1979787155             0.0             0.0        0               0  \n",
       "1  M2044282225             0.0             0.0        0               0  \n",
       "2   C553264065             0.0             0.0        1               0  \n",
       "3    C38997010         21182.0             0.0        1               0  \n",
       "4  M1230701703             0.0             0.0        0               0  "
      ]
     },
     "execution_count": 6,
     "metadata": {},
     "output_type": "execute_result"
    }
   ],
   "source": [
    "df.head()"
   ]
  },
  {
   "cell_type": "markdown",
   "id": "800dcac3-227a-474c-adc1-e50e26e1b720",
   "metadata": {},
   "source": [
    "# Step 2: Data Preprocessing and Exploration"
   ]
  },
  {
   "cell_type": "markdown",
   "id": "b62f48a1-61b7-44a3-981f-9f50283eb644",
   "metadata": {},
   "source": [
    "## Clean the Data: Handle missing values, remove duplicates, and standardize formats."
   ]
  },
  {
   "cell_type": "code",
   "execution_count": 9,
   "id": "bcfbff9e-a049-4592-b625-f37d832d44de",
   "metadata": {},
   "outputs": [
    {
     "data": {
      "text/plain": [
       "step              0\n",
       "type              0\n",
       "amount            0\n",
       "nameOrig          0\n",
       "oldbalanceOrg     0\n",
       "newbalanceOrig    0\n",
       "nameDest          0\n",
       "oldbalanceDest    0\n",
       "newbalanceDest    0\n",
       "isFraud           0\n",
       "isFlaggedFraud    0\n",
       "dtype: int64"
      ]
     },
     "execution_count": 9,
     "metadata": {},
     "output_type": "execute_result"
    }
   ],
   "source": [
    "df.isnull().sum()"
   ]
  },
  {
   "cell_type": "code",
   "execution_count": 10,
   "id": "49c9e941-9b17-4dc2-90af-7a89e16a313d",
   "metadata": {},
   "outputs": [
    {
     "data": {
      "text/plain": [
       "0"
      ]
     },
     "execution_count": 10,
     "metadata": {},
     "output_type": "execute_result"
    }
   ],
   "source": [
    "df.duplicated().sum()"
   ]
  },
  {
   "cell_type": "code",
   "execution_count": 11,
   "id": "80663770-ea34-4535-85d2-478341cceefc",
   "metadata": {},
   "outputs": [
    {
     "data": {
      "text/html": [
       "<div>\n",
       "<style scoped>\n",
       "    .dataframe tbody tr th:only-of-type {\n",
       "        vertical-align: middle;\n",
       "    }\n",
       "\n",
       "    .dataframe tbody tr th {\n",
       "        vertical-align: top;\n",
       "    }\n",
       "\n",
       "    .dataframe thead th {\n",
       "        text-align: right;\n",
       "    }\n",
       "</style>\n",
       "<table border=\"1\" class=\"dataframe\">\n",
       "  <thead>\n",
       "    <tr style=\"text-align: right;\">\n",
       "      <th></th>\n",
       "      <th>step</th>\n",
       "      <th>type</th>\n",
       "      <th>amount</th>\n",
       "      <th>nameOrig</th>\n",
       "      <th>oldbalanceOrg</th>\n",
       "      <th>newbalanceOrig</th>\n",
       "      <th>nameDest</th>\n",
       "      <th>oldbalanceDest</th>\n",
       "      <th>newbalanceDest</th>\n",
       "      <th>isFraud</th>\n",
       "      <th>isFlaggedFraud</th>\n",
       "    </tr>\n",
       "  </thead>\n",
       "  <tbody>\n",
       "    <tr>\n",
       "      <th>0</th>\n",
       "      <td>1</td>\n",
       "      <td>PAYMENT</td>\n",
       "      <td>9839.64</td>\n",
       "      <td>C1231006815</td>\n",
       "      <td>170136.0</td>\n",
       "      <td>160296.36</td>\n",
       "      <td>M1979787155</td>\n",
       "      <td>0.0</td>\n",
       "      <td>0.0</td>\n",
       "      <td>0</td>\n",
       "      <td>0</td>\n",
       "    </tr>\n",
       "    <tr>\n",
       "      <th>1</th>\n",
       "      <td>1</td>\n",
       "      <td>PAYMENT</td>\n",
       "      <td>1864.28</td>\n",
       "      <td>C1666544295</td>\n",
       "      <td>21249.0</td>\n",
       "      <td>19384.72</td>\n",
       "      <td>M2044282225</td>\n",
       "      <td>0.0</td>\n",
       "      <td>0.0</td>\n",
       "      <td>0</td>\n",
       "      <td>0</td>\n",
       "    </tr>\n",
       "    <tr>\n",
       "      <th>2</th>\n",
       "      <td>1</td>\n",
       "      <td>TRANSFER</td>\n",
       "      <td>181.00</td>\n",
       "      <td>C1305486145</td>\n",
       "      <td>181.0</td>\n",
       "      <td>0.00</td>\n",
       "      <td>C553264065</td>\n",
       "      <td>0.0</td>\n",
       "      <td>0.0</td>\n",
       "      <td>1</td>\n",
       "      <td>0</td>\n",
       "    </tr>\n",
       "    <tr>\n",
       "      <th>3</th>\n",
       "      <td>1</td>\n",
       "      <td>CASH_OUT</td>\n",
       "      <td>181.00</td>\n",
       "      <td>C840083671</td>\n",
       "      <td>181.0</td>\n",
       "      <td>0.00</td>\n",
       "      <td>C38997010</td>\n",
       "      <td>21182.0</td>\n",
       "      <td>0.0</td>\n",
       "      <td>1</td>\n",
       "      <td>0</td>\n",
       "    </tr>\n",
       "    <tr>\n",
       "      <th>4</th>\n",
       "      <td>1</td>\n",
       "      <td>PAYMENT</td>\n",
       "      <td>11668.14</td>\n",
       "      <td>C2048537720</td>\n",
       "      <td>41554.0</td>\n",
       "      <td>29885.86</td>\n",
       "      <td>M1230701703</td>\n",
       "      <td>0.0</td>\n",
       "      <td>0.0</td>\n",
       "      <td>0</td>\n",
       "      <td>0</td>\n",
       "    </tr>\n",
       "  </tbody>\n",
       "</table>\n",
       "</div>"
      ],
      "text/plain": [
       "   step      type    amount     nameOrig  oldbalanceOrg  newbalanceOrig  \\\n",
       "0     1   PAYMENT   9839.64  C1231006815       170136.0       160296.36   \n",
       "1     1   PAYMENT   1864.28  C1666544295        21249.0        19384.72   \n",
       "2     1  TRANSFER    181.00  C1305486145          181.0            0.00   \n",
       "3     1  CASH_OUT    181.00   C840083671          181.0            0.00   \n",
       "4     1   PAYMENT  11668.14  C2048537720        41554.0        29885.86   \n",
       "\n",
       "      nameDest  oldbalanceDest  newbalanceDest  isFraud  isFlaggedFraud  \n",
       "0  M1979787155             0.0             0.0        0               0  \n",
       "1  M2044282225             0.0             0.0        0               0  \n",
       "2   C553264065             0.0             0.0        1               0  \n",
       "3    C38997010         21182.0             0.0        1               0  \n",
       "4  M1230701703             0.0             0.0        0               0  "
      ]
     },
     "execution_count": 11,
     "metadata": {},
     "output_type": "execute_result"
    }
   ],
   "source": [
    "df.head()"
   ]
  },
  {
   "cell_type": "raw",
   "id": "1001a0a2-4014-4acf-814a-1ccd92cd71c8",
   "metadata": {},
   "source": [
    "✅ C. Understand the Columns\n",
    "Here’s what each column means:\n",
    "\n",
    "Column Name      \tDescription\n",
    "step           -  \tTime step in hours (1 step = 1 hour)\n",
    "type           -  \tType of transaction (e.g., TRANSFER, CASH_OUT)\n",
    "amount         -\tTransaction amount\n",
    "nameOrig       - \tSender account ID\n",
    "oldbalanceOrg  -\tSender's balance before transaction\n",
    "newbalanceOrig -\tSender's balance after transaction\n",
    "nameDest       - \tReceiver account ID\n",
    "oldbalanceDest -\tReceiver's balance before transaction\n",
    "newbalanceDest -\tReceiver's balance after transaction\n",
    "isFraud        -\t1 if transaction is fraud, 0 otherwise\n",
    "isFlaggedFraud -\t1 if system flagged as fraud, 0 otherwise"
   ]
  },
  {
   "cell_type": "markdown",
   "id": "0e9418e6-3b73-42fe-aa50-72c4ef30e6f4",
   "metadata": {},
   "source": [
    "## ✅ D. Questions to Explore Early"
   ]
  },
  {
   "cell_type": "markdown",
   "id": "745b9aaa-4c75-44a5-a3f9-9e24ffb42044",
   "metadata": {},
   "source": [
    "#### 1. How many total transactions are there?"
   ]
  },
  {
   "cell_type": "code",
   "execution_count": 14,
   "id": "6e8ceb96-955c-4460-a78b-b539430da93c",
   "metadata": {},
   "outputs": [
    {
     "name": "stdout",
     "output_type": "stream",
     "text": [
      " Total Tranasaction : 6362620\n"
     ]
    }
   ],
   "source": [
    "print(\" Total Tranasaction :\", len(df)) "
   ]
  },
  {
   "cell_type": "markdown",
   "id": "eb453d6a-ee97-4ac1-86c1-86f2c0e2d0b9",
   "metadata": {},
   "source": [
    "#### 2.What are the different transaction types?"
   ]
  },
  {
   "cell_type": "code",
   "execution_count": 16,
   "id": "abf592fa-e21b-4cc5-bca6-07cb3ca26fc3",
   "metadata": {},
   "outputs": [
    {
     "name": "stdout",
     "output_type": "stream",
     "text": [
      "Transaction types:  ['PAYMENT' 'TRANSFER' 'CASH_OUT' 'DEBIT' 'CASH_IN']\n"
     ]
    }
   ],
   "source": [
    "print(\"Transaction types: \" , df.type.unique())"
   ]
  },
  {
   "cell_type": "code",
   "execution_count": 17,
   "id": "9f514304-a28f-4bef-b2a2-33b7748e6ddd",
   "metadata": {},
   "outputs": [
    {
     "name": "stdout",
     "output_type": "stream",
     "text": [
      "Transaction type count: type\n",
      "CASH_OUT    2237500\n",
      "PAYMENT     2151495\n",
      "CASH_IN     1399284\n",
      "TRANSFER     532909\n",
      "DEBIT         41432\n",
      "Name: count, dtype: int64\n"
     ]
    }
   ],
   "source": [
    "print(\"Transaction type count:\" , df.type.value_counts())"
   ]
  },
  {
   "cell_type": "markdown",
   "id": "aba21e4c-0569-4530-80b5-1fc92077e824",
   "metadata": {},
   "source": [
    "#### 3.How many frauds (isFraud = 1)?"
   ]
  },
  {
   "cell_type": "code",
   "execution_count": 19,
   "id": "b265f798-560f-469b-a0ab-94c8cc51ef51",
   "metadata": {},
   "outputs": [
    {
     "name": "stdout",
     "output_type": "stream",
     "text": [
      "Number of Fraud Transaction count :  8213\n"
     ]
    }
   ],
   "source": [
    "print(\"Number of Fraud Transaction count : \",df[df['isFraud']==1].shape[0])"
   ]
  },
  {
   "cell_type": "code",
   "execution_count": 20,
   "id": "fe78e37e-7657-4371-8e75-666e1ed65552",
   "metadata": {},
   "outputs": [
    {
     "name": "stdout",
     "output_type": "stream",
     "text": [
      "Fraud Transaction count :  type\n",
      "CASH_OUT    4116\n",
      "TRANSFER    4097\n",
      "Name: count, dtype: int64\n"
     ]
    }
   ],
   "source": [
    "print(\"Fraud Transaction count : \" ,df[df['isFraud']==1]['type'].value_counts())"
   ]
  },
  {
   "cell_type": "markdown",
   "id": "4db1ce44-92c0-475a-98c1-62374817ae0d",
   "metadata": {},
   "source": [
    "#### 4. What’s the distribution of transaction amounts?"
   ]
  },
  {
   "cell_type": "code",
   "execution_count": 22,
   "id": "8960c2db-a859-4faa-9e81-e315f650ad8e",
   "metadata": {},
   "outputs": [
    {
     "data": {
      "text/plain": [
       "<Axes: >"
      ]
     },
     "execution_count": 22,
     "metadata": {},
     "output_type": "execute_result"
    },
    {
     "data": {
      "image/png": "[encoded data removed]",
      "text/plain": [
       "<Figure size 640x480 with 1 Axes>"
      ]
     },
     "metadata": {},
     "output_type": "display_data"
    }
   ],
   "source": [
    "df['amount'].hist(bins=50)"
   ]
  },
  {
   "cell_type": "raw",
   "id": "52b25115-347f-474c-9e4e-46fc83aaef10",
   "metadata": {},
   "source": [
    ". What This Means\n",
    "Your data is heavily skewed — most transactions are for very small amounts, and only a tiny number are high-value.\n",
    "\n",
    " Problem:\n",
    "Because a few outlier values (like ₹70,000,000) are so large, they stretch the x-axis, and all the smaller amounts get crammed into the first bin.\n",
    "\n",
    "This makes it hard to see the actual distribution of typical transactions."
   ]
  },
  {
   "cell_type": "markdown",
   "id": "6a2f4fa7-2abc-4b18-b2d3-24c26f56ec05",
   "metadata": {},
   "source": [
    "### ✅ How to Fix It: Zoom into Realistic Amounts\n",
    "Use a filter or limit the x-axis to see the meaningful range:"
   ]
  },
  {
   "cell_type": "code",
   "execution_count": 24,
   "id": "07fcc904-c7e4-45d8-a688-ff18da558925",
   "metadata": {},
   "outputs": [],
   "source": [
    "import matplotlib.pyplot as plt\n"
   ]
  },
  {
   "cell_type": "code",
   "execution_count": 25,
   "id": "39275208-9314-4c73-9960-8770b4304a16",
   "metadata": {},
   "outputs": [
    {
     "data": {
      "image/png": "[encoded data removed]",
      "text/plain": [
       "<Figure size 640x480 with 1 Axes>"
      ]
     },
     "metadata": {},
     "output_type": "display_data"
    }
   ],
   "source": [
    "# plot trasaction under 100000 to avoid skew from outliers\n",
    "df[df['amount'] < 100000]['amount'].hist(bins=50)\n",
    "plt.title(\"Transaction amount (< 100000)\")\n",
    "plt.xlabel(\"Amount\")\n",
    "plt.ylabel(\"Number of Transactions\")\n",
    "plt.show()"
   ]
  },
  {
   "cell_type": "markdown",
   "id": "8abe2f42-b599-4ca3-a597-5c3de9d4748f",
   "metadata": {},
   "source": [
    "### Compare Fraud vs Non-Fraud"
   ]
  },
  {
   "cell_type": "code",
   "execution_count": 27,
   "id": "81151709-4195-408e-8f2b-b94422c5b896",
   "metadata": {},
   "outputs": [],
   "source": [
    "import seaborn as sns"
   ]
  },
  {
   "cell_type": "code",
   "execution_count": 28,
   "id": "abfe712f-e074-4afa-b0e5-b10d9a8678a4",
   "metadata": {},
   "outputs": [
    {
     "data": {
      "image/png": "[encoded data removed]",
      "text/plain": [
       "<Figure size 1000x600 with 1 Axes>"
      ]
     },
     "metadata": {},
     "output_type": "display_data"
    }
   ],
   "source": [
    "plt.figure(figsize=(10,6))\n",
    "sns.histplot(data=df[df['amount']<100000],x='amount',hue='isFraud',bins=50,kde=True)\n",
    "plt.title(\"Fraud vs Non-Fraud Transacation Amouns (< 10,0000)\")\n",
    "plt.xlabel(\"Amount\")\n",
    "plt.ylabel(\"count\")\n",
    "plt.show()"
   ]
  },
  {
   "cell_type": "code",
   "execution_count": 29,
   "id": "8ce99a72-44fd-4cfe-aac0-dd73243cd71b",
   "metadata": {},
   "outputs": [
    {
     "data": {
      "text/plain": [
       "<Axes: xlabel='amount', ylabel='Density'>"
      ]
     },
     "execution_count": 29,
     "metadata": {},
     "output_type": "execute_result"
    },
    {
     "data": {
      "image/png": "[encoded data removed]",
      "text/plain": [
       "<Figure size 640x480 with 1 Axes>"
      ]
     },
     "metadata": {},
     "output_type": "display_data"
    }
   ],
   "source": [
    "sns.histplot(data=df[df['amount'] < 100000], \n",
    "             x='amount', \n",
    "             hue='isFraud', \n",
    "             bins=50, \n",
    "             kde=True, \n",
    "             stat='density', \n",
    "             common_norm=False)"
   ]
  },
  {
   "cell_type": "markdown",
   "id": "eba41b82-01e9-459e-8db6-0e28f41f9f77",
   "metadata": {},
   "source": [
    "## Step 3: Define Rule-Based Fraud Detection Logic \n",
    "\n",
    "Act as a  fraud analyst — identifying suspicious patterns based on rules and behavior, without using machine learning yet."
   ]
  },
  {
   "cell_type": "raw",
   "id": "701207d5-030b-4e99-9e81-1084d9d54919",
   "metadata": {},
   "source": [
    "In order to get the Fraud detection we have to set few logic-based rules to flag potentially fraudulent transactions using business intuition and EDA insights."
   ]
  },
  {
   "cell_type": "markdown",
   "id": "4c8ecd3b-effd-400b-85cf-b88a43776063",
   "metadata": {},
   "source": [
    "🔍 Let’s Create Rules Based on Observations\n",
    "\n",
    "Here are 5 common rules we can define (customizable to your dataset):"
   ]
  },
  {
   "cell_type": "markdown",
   "id": "b7fa1459-d330-4980-b6a5-9ff9939e4b3f",
   "metadata": {},
   "source": [
    "#### 📌 Rule 1: High Transaction Amount"
   ]
  },
  {
   "cell_type": "code",
   "execution_count": 33,
   "id": "eefdd6c1-f2f3-4af8-b49d-bc4c405f8f1f",
   "metadata": {},
   "outputs": [
    {
     "data": {
      "text/html": [
       "<div>\n",
       "<style scoped>\n",
       "    .dataframe tbody tr th:only-of-type {\n",
       "        vertical-align: middle;\n",
       "    }\n",
       "\n",
       "    .dataframe tbody tr th {\n",
       "        vertical-align: top;\n",
       "    }\n",
       "\n",
       "    .dataframe thead th {\n",
       "        text-align: right;\n",
       "    }\n",
       "</style>\n",
       "<table border=\"1\" class=\"dataframe\">\n",
       "  <thead>\n",
       "    <tr style=\"text-align: right;\">\n",
       "      <th></th>\n",
       "      <th>step</th>\n",
       "      <th>type</th>\n",
       "      <th>amount</th>\n",
       "      <th>nameOrig</th>\n",
       "      <th>oldbalanceOrg</th>\n",
       "      <th>newbalanceOrig</th>\n",
       "      <th>nameDest</th>\n",
       "      <th>oldbalanceDest</th>\n",
       "      <th>newbalanceDest</th>\n",
       "      <th>isFraud</th>\n",
       "      <th>isFlaggedFraud</th>\n",
       "    </tr>\n",
       "  </thead>\n",
       "  <tbody>\n",
       "    <tr>\n",
       "      <th>0</th>\n",
       "      <td>1</td>\n",
       "      <td>PAYMENT</td>\n",
       "      <td>9839.64</td>\n",
       "      <td>C1231006815</td>\n",
       "      <td>170136.0</td>\n",
       "      <td>160296.36</td>\n",
       "      <td>M1979787155</td>\n",
       "      <td>0.0</td>\n",
       "      <td>0.0</td>\n",
       "      <td>0</td>\n",
       "      <td>0</td>\n",
       "    </tr>\n",
       "    <tr>\n",
       "      <th>1</th>\n",
       "      <td>1</td>\n",
       "      <td>PAYMENT</td>\n",
       "      <td>1864.28</td>\n",
       "      <td>C1666544295</td>\n",
       "      <td>21249.0</td>\n",
       "      <td>19384.72</td>\n",
       "      <td>M2044282225</td>\n",
       "      <td>0.0</td>\n",
       "      <td>0.0</td>\n",
       "      <td>0</td>\n",
       "      <td>0</td>\n",
       "    </tr>\n",
       "    <tr>\n",
       "      <th>2</th>\n",
       "      <td>1</td>\n",
       "      <td>TRANSFER</td>\n",
       "      <td>181.00</td>\n",
       "      <td>C1305486145</td>\n",
       "      <td>181.0</td>\n",
       "      <td>0.00</td>\n",
       "      <td>C553264065</td>\n",
       "      <td>0.0</td>\n",
       "      <td>0.0</td>\n",
       "      <td>1</td>\n",
       "      <td>0</td>\n",
       "    </tr>\n",
       "    <tr>\n",
       "      <th>3</th>\n",
       "      <td>1</td>\n",
       "      <td>CASH_OUT</td>\n",
       "      <td>181.00</td>\n",
       "      <td>C840083671</td>\n",
       "      <td>181.0</td>\n",
       "      <td>0.00</td>\n",
       "      <td>C38997010</td>\n",
       "      <td>21182.0</td>\n",
       "      <td>0.0</td>\n",
       "      <td>1</td>\n",
       "      <td>0</td>\n",
       "    </tr>\n",
       "    <tr>\n",
       "      <th>4</th>\n",
       "      <td>1</td>\n",
       "      <td>PAYMENT</td>\n",
       "      <td>11668.14</td>\n",
       "      <td>C2048537720</td>\n",
       "      <td>41554.0</td>\n",
       "      <td>29885.86</td>\n",
       "      <td>M1230701703</td>\n",
       "      <td>0.0</td>\n",
       "      <td>0.0</td>\n",
       "      <td>0</td>\n",
       "      <td>0</td>\n",
       "    </tr>\n",
       "  </tbody>\n",
       "</table>\n",
       "</div>"
      ],
      "text/plain": [
       "   step      type    amount     nameOrig  oldbalanceOrg  newbalanceOrig  \\\n",
       "0     1   PAYMENT   9839.64  C1231006815       170136.0       160296.36   \n",
       "1     1   PAYMENT   1864.28  C1666544295        21249.0        19384.72   \n",
       "2     1  TRANSFER    181.00  C1305486145          181.0            0.00   \n",
       "3     1  CASH_OUT    181.00   C840083671          181.0            0.00   \n",
       "4     1   PAYMENT  11668.14  C2048537720        41554.0        29885.86   \n",
       "\n",
       "      nameDest  oldbalanceDest  newbalanceDest  isFraud  isFlaggedFraud  \n",
       "0  M1979787155             0.0             0.0        0               0  \n",
       "1  M2044282225             0.0             0.0        0               0  \n",
       "2   C553264065             0.0             0.0        1               0  \n",
       "3    C38997010         21182.0             0.0        1               0  \n",
       "4  M1230701703             0.0             0.0        0               0  "
      ]
     },
     "execution_count": 33,
     "metadata": {},
     "output_type": "execute_result"
    }
   ],
   "source": [
    "df.head()"
   ]
  },
  {
   "cell_type": "code",
   "execution_count": 34,
   "id": "b3aaef78-ce3c-407d-9778-221851507ef7",
   "metadata": {},
   "outputs": [],
   "source": [
    "#Flag Transaction over 200,000\n",
    "df['rule_high_amount'] = df['amount'] > 200000"
   ]
  },
  {
   "cell_type": "markdown",
   "id": "0b1d49c4-298d-4cae-8155-62897723e815",
   "metadata": {},
   "source": [
    "### 📌 Rule 2: TRANSFER or CASH_OUT Type with Balance Anomalies"
   ]
  },
  {
   "cell_type": "code",
   "execution_count": 36,
   "id": "d458832e-2ae6-4dc8-b9b8-6fd50744e09d",
   "metadata": {},
   "outputs": [],
   "source": [
    "df['rule_suspecious_type'] =( \n",
    " (df['type'].isin(['TRANSFER','CASH_OUT']) ) &\n",
    "    (df['oldbalanceOrg'] == 0) &\n",
    "    (df['newbalanceOrig'] == 0)\n",
    ")"
   ]
  },
  {
   "cell_type": "markdown",
   "id": "9d53ab79-490d-47d3-986f-5214705a512b",
   "metadata": {},
   "source": [
    "### 📌 Rule 3: Sender Has No Funds but Makes a Transaction"
   ]
  },
  {
   "cell_type": "code",
   "execution_count": 38,
   "id": "5f9a219f-7dc8-49e7-a650-4f98119b532e",
   "metadata": {},
   "outputs": [],
   "source": [
    "df['rule_zero_balance_sender'] = (\n",
    " (df['oldbalanceOrg'] == 0) &\n",
    "    (df['amount'] > 0)\n",
    ")"
   ]
  },
  {
   "cell_type": "markdown",
   "id": "f4534962-13d7-4dd1-8fdd-a08610279440",
   "metadata": {},
   "source": [
    "### 📌 Rule 4: Destination Account Balance Jump Without History"
   ]
  },
  {
   "cell_type": "code",
   "execution_count": 40,
   "id": "a397c85f-bf36-4e8c-a588-be5464f24e4b",
   "metadata": {},
   "outputs": [],
   "source": [
    "df['rule_jump_balance_dest'] = (\n",
    "    (df['oldbalanceOrg'] == 0) &\n",
    "    (df['newbalanceOrig'] > 0 ) &\n",
    "    (df['amount']  > 0 )\n",
    ")"
   ]
  },
  {
   "cell_type": "markdown",
   "id": "e7d1ee00-633f-4c3a-8a9e-7863ab457b16",
   "metadata": {},
   "source": [
    "### 📌 Rule 5: System Flagged It as Fraud"
   ]
  },
  {
   "cell_type": "code",
   "execution_count": 42,
   "id": "f201e53b-a6cf-4b31-b754-4421dcf33a1b",
   "metadata": {},
   "outputs": [],
   "source": [
    "df['rule_flagged_by_system'] = df['isFlaggedFraud'] == 1"
   ]
  },
  {
   "cell_type": "markdown",
   "id": "7fc7d072-ae1d-4379-a0fe-b732defbad65",
   "metadata": {},
   "source": [
    "### ✅ Combine Rules to Predict Suspicious Transactions"
   ]
  },
  {
   "cell_type": "code",
   "execution_count": 44,
   "id": "3b64b0f1-8e24-409a-9d57-73c5b005d96d",
   "metadata": {},
   "outputs": [],
   "source": [
    "df['isSuspicious']  = (\n",
    "    df['rule_high_amount'] |\n",
    "    df['rule_suspecious_type'] |\n",
    "    df['rule_zero_balance_sender'] |\n",
    "    df['rule_jump_balance_dest'] \n",
    "\n",
    ")\n"
   ]
  },
  {
   "cell_type": "code",
   "execution_count": 45,
   "id": "edf5271a-72b1-4173-9136-39fcaaf60bed",
   "metadata": {},
   "outputs": [
    {
     "data": {
      "text/html": [
       "<div>\n",
       "<style scoped>\n",
       "    .dataframe tbody tr th:only-of-type {\n",
       "        vertical-align: middle;\n",
       "    }\n",
       "\n",
       "    .dataframe tbody tr th {\n",
       "        vertical-align: top;\n",
       "    }\n",
       "\n",
       "    .dataframe thead th {\n",
       "        text-align: right;\n",
       "    }\n",
       "</style>\n",
       "<table border=\"1\" class=\"dataframe\">\n",
       "  <thead>\n",
       "    <tr style=\"text-align: right;\">\n",
       "      <th></th>\n",
       "      <th>step</th>\n",
       "      <th>type</th>\n",
       "      <th>amount</th>\n",
       "      <th>nameOrig</th>\n",
       "      <th>oldbalanceOrg</th>\n",
       "      <th>newbalanceOrig</th>\n",
       "      <th>nameDest</th>\n",
       "      <th>oldbalanceDest</th>\n",
       "      <th>newbalanceDest</th>\n",
       "      <th>isFraud</th>\n",
       "      <th>isFlaggedFraud</th>\n",
       "      <th>rule_high_amount</th>\n",
       "      <th>rule_suspecious_type</th>\n",
       "      <th>rule_zero_balance_sender</th>\n",
       "      <th>rule_jump_balance_dest</th>\n",
       "      <th>rule_flagged_by_system</th>\n",
       "      <th>isSuspicious</th>\n",
       "    </tr>\n",
       "  </thead>\n",
       "  <tbody>\n",
       "    <tr>\n",
       "      <th>0</th>\n",
       "      <td>1</td>\n",
       "      <td>PAYMENT</td>\n",
       "      <td>9839.64</td>\n",
       "      <td>C1231006815</td>\n",
       "      <td>170136.00</td>\n",
       "      <td>160296.36</td>\n",
       "      <td>M1979787155</td>\n",
       "      <td>0.00</td>\n",
       "      <td>0.00</td>\n",
       "      <td>0</td>\n",
       "      <td>0</td>\n",
       "      <td>False</td>\n",
       "      <td>False</td>\n",
       "      <td>False</td>\n",
       "      <td>False</td>\n",
       "      <td>False</td>\n",
       "      <td>False</td>\n",
       "    </tr>\n",
       "    <tr>\n",
       "      <th>1</th>\n",
       "      <td>1</td>\n",
       "      <td>PAYMENT</td>\n",
       "      <td>1864.28</td>\n",
       "      <td>C1666544295</td>\n",
       "      <td>21249.00</td>\n",
       "      <td>19384.72</td>\n",
       "      <td>M2044282225</td>\n",
       "      <td>0.00</td>\n",
       "      <td>0.00</td>\n",
       "      <td>0</td>\n",
       "      <td>0</td>\n",
       "      <td>False</td>\n",
       "      <td>False</td>\n",
       "      <td>False</td>\n",
       "      <td>False</td>\n",
       "      <td>False</td>\n",
       "      <td>False</td>\n",
       "    </tr>\n",
       "    <tr>\n",
       "      <th>2</th>\n",
       "      <td>1</td>\n",
       "      <td>TRANSFER</td>\n",
       "      <td>181.00</td>\n",
       "      <td>C1305486145</td>\n",
       "      <td>181.00</td>\n",
       "      <td>0.00</td>\n",
       "      <td>C553264065</td>\n",
       "      <td>0.00</td>\n",
       "      <td>0.00</td>\n",
       "      <td>1</td>\n",
       "      <td>0</td>\n",
       "      <td>False</td>\n",
       "      <td>False</td>\n",
       "      <td>False</td>\n",
       "      <td>False</td>\n",
       "      <td>False</td>\n",
       "      <td>False</td>\n",
       "    </tr>\n",
       "    <tr>\n",
       "      <th>3</th>\n",
       "      <td>1</td>\n",
       "      <td>CASH_OUT</td>\n",
       "      <td>181.00</td>\n",
       "      <td>C840083671</td>\n",
       "      <td>181.00</td>\n",
       "      <td>0.00</td>\n",
       "      <td>C38997010</td>\n",
       "      <td>21182.00</td>\n",
       "      <td>0.00</td>\n",
       "      <td>1</td>\n",
       "      <td>0</td>\n",
       "      <td>False</td>\n",
       "      <td>False</td>\n",
       "      <td>False</td>\n",
       "      <td>False</td>\n",
       "      <td>False</td>\n",
       "      <td>False</td>\n",
       "    </tr>\n",
       "    <tr>\n",
       "      <th>4</th>\n",
       "      <td>1</td>\n",
       "      <td>PAYMENT</td>\n",
       "      <td>11668.14</td>\n",
       "      <td>C2048537720</td>\n",
       "      <td>41554.00</td>\n",
       "      <td>29885.86</td>\n",
       "      <td>M1230701703</td>\n",
       "      <td>0.00</td>\n",
       "      <td>0.00</td>\n",
       "      <td>0</td>\n",
       "      <td>0</td>\n",
       "      <td>False</td>\n",
       "      <td>False</td>\n",
       "      <td>False</td>\n",
       "      <td>False</td>\n",
       "      <td>False</td>\n",
       "      <td>False</td>\n",
       "    </tr>\n",
       "    <tr>\n",
       "      <th>...</th>\n",
       "      <td>...</td>\n",
       "      <td>...</td>\n",
       "      <td>...</td>\n",
       "      <td>...</td>\n",
       "      <td>...</td>\n",
       "      <td>...</td>\n",
       "      <td>...</td>\n",
       "      <td>...</td>\n",
       "      <td>...</td>\n",
       "      <td>...</td>\n",
       "      <td>...</td>\n",
       "      <td>...</td>\n",
       "      <td>...</td>\n",
       "      <td>...</td>\n",
       "      <td>...</td>\n",
       "      <td>...</td>\n",
       "      <td>...</td>\n",
       "    </tr>\n",
       "    <tr>\n",
       "      <th>6362615</th>\n",
       "      <td>743</td>\n",
       "      <td>CASH_OUT</td>\n",
       "      <td>339682.13</td>\n",
       "      <td>C786484425</td>\n",
       "      <td>339682.13</td>\n",
       "      <td>0.00</td>\n",
       "      <td>C776919290</td>\n",
       "      <td>0.00</td>\n",
       "      <td>339682.13</td>\n",
       "      <td>1</td>\n",
       "      <td>0</td>\n",
       "      <td>True</td>\n",
       "      <td>False</td>\n",
       "      <td>False</td>\n",
       "      <td>False</td>\n",
       "      <td>False</td>\n",
       "      <td>True</td>\n",
       "    </tr>\n",
       "    <tr>\n",
       "      <th>6362616</th>\n",
       "      <td>743</td>\n",
       "      <td>TRANSFER</td>\n",
       "      <td>6311409.28</td>\n",
       "      <td>C1529008245</td>\n",
       "      <td>6311409.28</td>\n",
       "      <td>0.00</td>\n",
       "      <td>C1881841831</td>\n",
       "      <td>0.00</td>\n",
       "      <td>0.00</td>\n",
       "      <td>1</td>\n",
       "      <td>0</td>\n",
       "      <td>True</td>\n",
       "      <td>False</td>\n",
       "      <td>False</td>\n",
       "      <td>False</td>\n",
       "      <td>False</td>\n",
       "      <td>True</td>\n",
       "    </tr>\n",
       "    <tr>\n",
       "      <th>6362617</th>\n",
       "      <td>743</td>\n",
       "      <td>CASH_OUT</td>\n",
       "      <td>6311409.28</td>\n",
       "      <td>C1162922333</td>\n",
       "      <td>6311409.28</td>\n",
       "      <td>0.00</td>\n",
       "      <td>C1365125890</td>\n",
       "      <td>68488.84</td>\n",
       "      <td>6379898.11</td>\n",
       "      <td>1</td>\n",
       "      <td>0</td>\n",
       "      <td>True</td>\n",
       "      <td>False</td>\n",
       "      <td>False</td>\n",
       "      <td>False</td>\n",
       "      <td>False</td>\n",
       "      <td>True</td>\n",
       "    </tr>\n",
       "    <tr>\n",
       "      <th>6362618</th>\n",
       "      <td>743</td>\n",
       "      <td>TRANSFER</td>\n",
       "      <td>850002.52</td>\n",
       "      <td>C1685995037</td>\n",
       "      <td>850002.52</td>\n",
       "      <td>0.00</td>\n",
       "      <td>C2080388513</td>\n",
       "      <td>0.00</td>\n",
       "      <td>0.00</td>\n",
       "      <td>1</td>\n",
       "      <td>0</td>\n",
       "      <td>True</td>\n",
       "      <td>False</td>\n",
       "      <td>False</td>\n",
       "      <td>False</td>\n",
       "      <td>False</td>\n",
       "      <td>True</td>\n",
       "    </tr>\n",
       "    <tr>\n",
       "      <th>6362619</th>\n",
       "      <td>743</td>\n",
       "      <td>CASH_OUT</td>\n",
       "      <td>850002.52</td>\n",
       "      <td>C1280323807</td>\n",
       "      <td>850002.52</td>\n",
       "      <td>0.00</td>\n",
       "      <td>C873221189</td>\n",
       "      <td>6510099.11</td>\n",
       "      <td>7360101.63</td>\n",
       "      <td>1</td>\n",
       "      <td>0</td>\n",
       "      <td>True</td>\n",
       "      <td>False</td>\n",
       "      <td>False</td>\n",
       "      <td>False</td>\n",
       "      <td>False</td>\n",
       "      <td>True</td>\n",
       "    </tr>\n",
       "  </tbody>\n",
       "</table>\n",
       "<p>6362620 rows × 17 columns</p>\n",
       "</div>"
      ],
      "text/plain": [
       "         step      type      amount     nameOrig  oldbalanceOrg  \\\n",
       "0           1   PAYMENT     9839.64  C1231006815      170136.00   \n",
       "1           1   PAYMENT     1864.28  C1666544295       21249.00   \n",
       "2           1  TRANSFER      181.00  C1305486145         181.00   \n",
       "3           1  CASH_OUT      181.00   C840083671         181.00   \n",
       "4           1   PAYMENT    11668.14  C2048537720       41554.00   \n",
       "...       ...       ...         ...          ...            ...   \n",
       "6362615   743  CASH_OUT   339682.13   C786484425      339682.13   \n",
       "6362616   743  TRANSFER  6311409.28  C1529008245     6311409.28   \n",
       "6362617   743  CASH_OUT  6311409.28  C1162922333     6311409.28   \n",
       "6362618   743  TRANSFER   850002.52  C1685995037      850002.52   \n",
       "6362619   743  CASH_OUT   850002.52  C1280323807      850002.52   \n",
       "\n",
       "         newbalanceOrig     nameDest  oldbalanceDest  newbalanceDest  isFraud  \\\n",
       "0             160296.36  M1979787155            0.00            0.00        0   \n",
       "1              19384.72  M2044282225            0.00            0.00        0   \n",
       "2                  0.00   C553264065            0.00            0.00        1   \n",
       "3                  0.00    C38997010        21182.00            0.00        1   \n",
       "4              29885.86  M1230701703            0.00            0.00        0   \n",
       "...                 ...          ...             ...             ...      ...   \n",
       "6362615            0.00   C776919290            0.00       339682.13        1   \n",
       "6362616            0.00  C1881841831            0.00            0.00        1   \n",
       "6362617            0.00  C1365125890        68488.84      6379898.11        1   \n",
       "6362618            0.00  C2080388513            0.00            0.00        1   \n",
       "6362619            0.00   C873221189      6510099.11      7360101.63        1   \n",
       "\n",
       "         isFlaggedFraud  rule_high_amount  rule_suspecious_type  \\\n",
       "0                     0             False                 False   \n",
       "1                     0             False                 False   \n",
       "2                     0             False                 False   \n",
       "3                     0             False                 False   \n",
       "4                     0             False                 False   \n",
       "...                 ...               ...                   ...   \n",
       "6362615               0              True                 False   \n",
       "6362616               0              True                 False   \n",
       "6362617               0              True                 False   \n",
       "6362618               0              True                 False   \n",
       "6362619               0              True                 False   \n",
       "\n",
       "         rule_zero_balance_sender  rule_jump_balance_dest  \\\n",
       "0                           False                   False   \n",
       "1                           False                   False   \n",
       "2                           False                   False   \n",
       "3                           False                   False   \n",
       "4                           False                   False   \n",
       "...                           ...                     ...   \n",
       "6362615                     False                   False   \n",
       "6362616                     False                   False   \n",
       "6362617                     False                   False   \n",
       "6362618                     False                   False   \n",
       "6362619                     False                   False   \n",
       "\n",
       "         rule_flagged_by_system  isSuspicious  \n",
       "0                         False         False  \n",
       "1                         False         False  \n",
       "2                         False         False  \n",
       "3                         False         False  \n",
       "4                         False         False  \n",
       "...                         ...           ...  \n",
       "6362615                   False          True  \n",
       "6362616                   False          True  \n",
       "6362617                   False          True  \n",
       "6362618                   False          True  \n",
       "6362619                   False          True  \n",
       "\n",
       "[6362620 rows x 17 columns]"
      ]
     },
     "execution_count": 45,
     "metadata": {},
     "output_type": "execute_result"
    }
   ],
   "source": [
    "df"
   ]
  },
  {
   "cell_type": "code",
   "execution_count": 46,
   "id": "74238e03-56e1-4c21-a16f-a567d5496f9f",
   "metadata": {},
   "outputs": [
    {
     "name": "stdout",
     "output_type": "stream",
     "text": [
      "              precision    recall  f1-score   support\n",
      "\n",
      "           0       1.00      0.50      0.66   6354407\n",
      "           1       0.00      0.67      0.00      8213\n",
      "\n",
      "    accuracy                           0.50   6362620\n",
      "   macro avg       0.50      0.58      0.33   6362620\n",
      "weighted avg       1.00      0.50      0.66   6362620\n",
      "\n"
     ]
    }
   ],
   "source": [
    "from sklearn.metrics import classification_report\n",
    "\n",
    "print(classification_report(df['isFraud'], df['isSuspicious']))"
   ]
  },
  {
   "cell_type": "raw",
   "id": "831c6147-2ea4-4cec-85a3-03f76220a9fa",
   "metadata": {},
   "source": [
    "What this means:\n",
    "Class 0 = Normal transactions\n",
    "\n",
    "Class 1 = Fraudulent transactions\n",
    "\n",
    "From this:\n",
    "\n",
    "Your logic caught 85% of frauds (high recall ✅).\n",
    "\n",
    "But precision is low (12%), meaning some non-frauds got flagged too."
   ]
  },
  {
   "cell_type": "code",
   "execution_count": 76,
   "id": "2c6f583d-0911-4678-97ab-e8ea7caec878",
   "metadata": {},
   "outputs": [],
   "source": [
    "df['isSuspicious'] = ((df['type'] == 'TRANSFER') & (df['amount'] > 2000000)).astype(int)"
   ]
  },
  {
   "cell_type": "markdown",
   "id": "d67cdda5-9310-4b4e-ac20-578ee1dd6016",
   "metadata": {},
   "source": [
    "# 📊 Step 4.1: Generate a Confusion Matrix"
   ]
  },
  {
   "cell_type": "raw",
   "id": "a882eacc-420d-40b0-a3e7-b6f88f111820",
   "metadata": {},
   "source": [
    "This will help us answer:\n",
    "\n",
    "\"How well did our rule identify actual frauds?\""
   ]
  },
  {
   "cell_type": "code",
   "execution_count": 79,
   "id": "609bddf1-ce8e-462f-81db-13137d10a97f",
   "metadata": {},
   "outputs": [
    {
     "data": {
      "image/png": "[encoded data removed]",
      "text/plain": [
       "<Figure size 640x480 with 2 Axes>"
      ]
     },
     "metadata": {},
     "output_type": "display_data"
    }
   ],
   "source": [
    "from sklearn.metrics import confusion_matrix, ConfusionMatrixDisplay\n",
    "\n",
    "# Actual vs Predicted\n",
    "y_true = df['isFraud']\n",
    "y_pred = df['isSuspicious']\n",
    "\n",
    "# Create the confusion matrix\n",
    "cm = confusion_matrix(y_true, y_pred)\n",
    "disp = ConfusionMatrixDisplay(confusion_matrix=cm, display_labels=[\"Not Fraud\", \"Fraud\"])\n",
    "\n",
    "# Plot\n",
    "disp.plot(cmap=\"Blues\")\n",
    "plt.title(\"Rule-Based Prediction vs Actual Fraud\")\n",
    "plt.show()"
   ]
  },
  {
   "cell_type": "markdown",
   "id": "a09c613e-e4a5-43e6-a13c-17f066961059",
   "metadata": {},
   "source": [
    "### Here’s how many frauds actually existed vs how many my rule could catch.”"
   ]
  },
  {
   "cell_type": "markdown",
   "id": "b0f5efda-1635-4297-8f50-e21c7d85ab4b",
   "metadata": {},
   "source": [
    "# 📊 Step 4.2: Bar Chart Comparing Actual vs Detected Frauds"
   ]
  },
  {
   "cell_type": "code",
   "execution_count": 84,
   "id": "20827731-f965-48e8-b74d-d85b34f372e6",
   "metadata": {},
   "outputs": [
    {
     "data": {
      "image/png": "[encoded data removed]",
      "text/plain": [
       "<Figure size 800x500 with 1 Axes>"
      ]
     },
     "metadata": {},
     "output_type": "display_data"
    }
   ],
   "source": [
    "import matplotlib.pyplot as plt\n",
    "\n",
    "# Count actual frauds\n",
    "total_frauds = df[df['isFraud'] == 1].shape[0]\n",
    "\n",
    "# Count frauds correctly detected by the rule\n",
    "caught_frauds = df[(df['isFraud'] == 1) & (df['isSuspicious'] == 1)].shape[0]\n",
    "\n",
    "# Count frauds missed by the rule\n",
    "missed_frauds = df[(df['isFraud'] == 1) & (df['isSuspicious'] == 0)].shape[0]\n",
    "\n",
    "# Plotting\n",
    "labels = ['Total Frauds', 'Frauds Caught', 'Frauds Missed']\n",
    "values = [total_frauds, caught_frauds, missed_frauds]\n",
    "\n",
    "plt.figure(figsize=(8, 5))\n",
    "bars = plt.bar(labels, values, color=['skyblue', 'green', 'red'])\n",
    "plt.title(\"Fraud Detection Rule Performance\")\n",
    "plt.ylabel(\"Number of Transactions\")\n",
    "\n",
    "# Adding value labels on bars\n",
    "for bar in bars:\n",
    "    height = bar.get_height()\n",
    "    plt.text(bar.get_x() + bar.get_width()/2., height + 100, '%d' % int(height), ha='center', fontsize=12)\n",
    "\n",
    "plt.show()\n"
   ]
  },
  {
   "cell_type": "code",
   "execution_count": null,
   "id": "943cb6d2-614f-4e5e-b5f9-5ce9868baac3",
   "metadata": {},
   "outputs": [],
   "source": []
  }
 ],
 "metadata": {
  "kernelspec": {
   "display_name": "Python 3 (ipykernel)",
   "language": "python",
   "name": "python3"
  },
  "language_info": {
   "codemirror_mode": {
    "name": "ipython",
    "version": 3
   },
   "file_extension": ".py",
   "mimetype": "text/x-python",
   "name": "python",
   "nbconvert_exporter": "python",
   "pygments_lexer": "ipython3",
   "version": "3.12.4"
  }
 },
 "nbformat": 4,
 "nbformat_minor": 5
}
